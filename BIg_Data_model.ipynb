{
  "nbformat": 4,
  "nbformat_minor": 0,
  "metadata": {
    "colab": {
      "provenance": []
    },
    "kernelspec": {
      "name": "python3",
      "display_name": "Python 3"
    },
    "language_info": {
      "name": "python"
    }
  },
  "cells": [
    {
      "cell_type": "code",
      "source": [
        "from pyspark.sql import SparkSession\n",
        "\n",
        "# Initialize a Spark session\n",
        "spark = SparkSession.builder \\\n",
        "    .appName(\"Flight Delay Prediction\") \\\n",
        "    .getOrCreate()\n"
      ],
      "metadata": {
        "id": "qX0rsNMVbBAz"
      },
      "execution_count": null,
      "outputs": []
    },
    {
      "cell_type": "code",
      "source": [
        "from pyspark.sql import SparkSession\n",
        "\n",
        "# Initialize Spark session\n",
        "spark = SparkSession.builder.appName(\"FlightDelayAnalysis\").getOrCreate()\n",
        "\n",
        "# Load the files\n",
        "data_2009 = spark.read.csv(\"/content/2009.csv\", header=True, inferSchema=True).limit(500)\n",
        "data_2017 = spark.read.csv(\"/content/2017.csv\", header=True, inferSchema=True).limit(500)\n",
        "\n",
        "# Show the first few rows of each dataset to verify\n",
        "data_2009.show(5)\n",
        "data_2017.show(5)\n"
      ],
      "metadata": {
        "colab": {
          "base_uri": "https://localhost:8080/"
        },
        "id": "VFnVbPKebMLL",
        "outputId": "d166d5d4-8040-46e2-f6a5-eb82a98cbe9d"
      },
      "execution_count": null,
      "outputs": [
        {
          "output_type": "stream",
          "name": "stdout",
          "text": [
            "+----------+----------+-----------------+------+----+------------+--------+---------+--------+----------+---------+-------+------------+--------+---------+---------+-----------------+--------+----------------+-------------------+--------+--------+-------------+-------------+---------+--------------+-------------------+-----------+\n",
            "|   FL_DATE|OP_CARRIER|OP_CARRIER_FL_NUM|ORIGIN|DEST|CRS_DEP_TIME|DEP_TIME|DEP_DELAY|TAXI_OUT|WHEELS_OFF|WHEELS_ON|TAXI_IN|CRS_ARR_TIME|ARR_TIME|ARR_DELAY|CANCELLED|CANCELLATION_CODE|DIVERTED|CRS_ELAPSED_TIME|ACTUAL_ELAPSED_TIME|AIR_TIME|DISTANCE|CARRIER_DELAY|WEATHER_DELAY|NAS_DELAY|SECURITY_DELAY|LATE_AIRCRAFT_DELAY|Unnamed: 27|\n",
            "+----------+----------+-----------------+------+----+------------+--------+---------+--------+----------+---------+-------+------------+--------+---------+---------+-----------------+--------+----------------+-------------------+--------+--------+-------------+-------------+---------+--------------+-------------------+-----------+\n",
            "|2009-01-01|        XE|             1204|   DCA| EWR|        1100|  1058.0|     -2.0|    18.0|    1116.0|   1158.0|    8.0|        1202|  1206.0|      4.0|      0.0|             NULL|     0.0|            62.0|               68.0|    42.0|   199.0|         NULL|         NULL|     NULL|          NULL|               NULL|       NULL|\n",
            "|2009-01-01|        XE|             1206|   EWR| IAD|        1510|  1509.0|     -1.0|    28.0|    1537.0|   1620.0|    4.0|        1632|  1624.0|     -8.0|      0.0|             NULL|     0.0|            82.0|               75.0|    43.0|   213.0|         NULL|         NULL|     NULL|          NULL|               NULL|       NULL|\n",
            "|2009-01-01|        XE|             1207|   EWR| DCA|        1100|  1059.0|     -1.0|    20.0|    1119.0|   1155.0|    6.0|        1210|  1201.0|     -9.0|      0.0|             NULL|     0.0|            70.0|               62.0|    36.0|   199.0|         NULL|         NULL|     NULL|          NULL|               NULL|       NULL|\n",
            "|2009-01-01|        XE|             1208|   DCA| EWR|        1240|  1249.0|      9.0|    10.0|    1259.0|   1336.0|    9.0|        1357|  1345.0|    -12.0|      0.0|             NULL|     0.0|            77.0|               56.0|    37.0|   199.0|         NULL|         NULL|     NULL|          NULL|               NULL|       NULL|\n",
            "|2009-01-01|        XE|             1209|   IAD| EWR|        1715|  1705.0|    -10.0|    24.0|    1729.0|   1809.0|   13.0|        1900|  1822.0|    -38.0|      0.0|             NULL|     0.0|           105.0|               77.0|    40.0|   213.0|         NULL|         NULL|     NULL|          NULL|               NULL|       NULL|\n",
            "+----------+----------+-----------------+------+----+------------+--------+---------+--------+----------+---------+-------+------------+--------+---------+---------+-----------------+--------+----------------+-------------------+--------+--------+-------------+-------------+---------+--------------+-------------------+-----------+\n",
            "only showing top 5 rows\n",
            "\n",
            "+----------+----------+-----------------+------+----+------------+--------+---------+--------+----------+---------+-------+------------+--------+---------+---------+-----------------+--------+----------------+-------------------+--------+--------+-------------+-------------+---------+--------------+-------------------+-----------+\n",
            "|   FL_DATE|OP_CARRIER|OP_CARRIER_FL_NUM|ORIGIN|DEST|CRS_DEP_TIME|DEP_TIME|DEP_DELAY|TAXI_OUT|WHEELS_OFF|WHEELS_ON|TAXI_IN|CRS_ARR_TIME|ARR_TIME|ARR_DELAY|CANCELLED|CANCELLATION_CODE|DIVERTED|CRS_ELAPSED_TIME|ACTUAL_ELAPSED_TIME|AIR_TIME|DISTANCE|CARRIER_DELAY|WEATHER_DELAY|NAS_DELAY|SECURITY_DELAY|LATE_AIRCRAFT_DELAY|Unnamed: 27|\n",
            "+----------+----------+-----------------+------+----+------------+--------+---------+--------+----------+---------+-------+------------+--------+---------+---------+-----------------+--------+----------------+-------------------+--------+--------+-------------+-------------+---------+--------------+-------------------+-----------+\n",
            "|2017-01-01|        AA|                1|   JFK| LAX|         800|   831.0|     31.0|    25.0|     856.0|   1143.0|   26.0|        1142|  1209.0|     27.0|      0.0|             NULL|     0.0|           402.0|              398.0|   347.0|  2475.0|         27.0|          0.0|      0.0|           0.0|                0.0|       NULL|\n",
            "|2017-01-01|        AA|                2|   LAX| JFK|         900|   934.0|     34.0|    34.0|    1008.0|   1757.0|   12.0|        1727|  1809.0|     42.0|      0.0|             NULL|     0.0|           327.0|              335.0|   289.0|  2475.0|         34.0|          0.0|      8.0|           0.0|                0.0|       NULL|\n",
            "|2017-01-01|        AA|                4|   LAX| JFK|        1130|  1221.0|     51.0|    20.0|    1241.0|   2025.0|   15.0|        1958|  2040.0|     42.0|      0.0|             NULL|     0.0|           328.0|              319.0|   284.0|  2475.0|          7.0|          0.0|      0.0|           0.0|               35.0|       NULL|\n",
            "|2017-01-01|        AA|                5|   DFW| HNL|        1135|  1252.0|     77.0|    19.0|    1311.0|   1744.0|    5.0|        1612|  1749.0|     97.0|      0.0|             NULL|     0.0|           517.0|              537.0|   513.0|  3784.0|         77.0|          0.0|     20.0|           0.0|                0.0|       NULL|\n",
            "|2017-01-01|        AA|                6|   OGG| DFW|        1855|  1855.0|      0.0|    16.0|    1911.0|    631.0|   11.0|         600|   642.0|     42.0|      0.0|             NULL|     0.0|           425.0|              467.0|   440.0|  3711.0|          0.0|          0.0|     42.0|           0.0|                0.0|       NULL|\n",
            "+----------+----------+-----------------+------+----+------------+--------+---------+--------+----------+---------+-------+------------+--------+---------+---------+-----------------+--------+----------------+-------------------+--------+--------+-------------+-------------+---------+--------------+-------------------+-----------+\n",
            "only showing top 5 rows\n",
            "\n"
          ]
        }
      ]
    },
    {
      "cell_type": "code",
      "source": [
        "from pyspark.ml.feature import Imputer, VectorAssembler\n",
        "from pyspark.ml.classification import LogisticRegression\n",
        "from pyspark.ml.evaluation import BinaryClassificationEvaluator\n",
        "from pyspark.sql.functions import col\n",
        "\n",
        "# Step 1: Select numerical features and the target label\n",
        "numeric_cols = [\"DEP_DELAY\", \"TAXI_OUT\", \"DISTANCE\", \"CRS_ELAPSED_TIME\", \"ACTUAL_ELAPSED_TIME\"]\n",
        "data_2009 = data_2009.select(numeric_cols + [\"is_delayed\"])\n",
        "data_2017 = data_2017.select(numeric_cols + [\"is_delayed\"])\n",
        "\n",
        "# Step 2: Combine the datasets\n",
        "data = data_2009.union(data_2017)\n",
        "\n",
        "# Step 3: Handle missing values using Imputer\n",
        "imputer = Imputer(inputCols=numeric_cols, outputCols=[f\"{col}_imputed\" for col in numeric_cols]).setStrategy(\"mean\")\n",
        "data = imputer.fit(data).transform(data)\n",
        "\n",
        "# Step 4: Assemble imputed features into a single feature vector\n",
        "imputed_cols = [f\"{col}_imputed\" for col in numeric_cols]\n",
        "assembler = VectorAssembler(inputCols=imputed_cols, outputCol=\"features\")\n",
        "data = assembler.transform(data)\n",
        "\n",
        "# Step 5: Split the data into training and testing sets\n",
        "train_data, test_data = data.randomSplit([0.8, 0.2], seed=42)\n",
        "\n",
        "# Step 6: Initialize and train the Logistic Regression model\n",
        "lr = LogisticRegression(labelCol=\"is_delayed\", featuresCol=\"features\")\n",
        "model = lr.fit(train_data)\n",
        "\n",
        "# Step 7: Make predictions on the test data\n",
        "predictions = model.transform(test_data)\n",
        "\n",
        "# Step 8: Evaluate the model using AUC metric\n",
        "evaluator = BinaryClassificationEvaluator(labelCol=\"is_delayed\", metricName=\"areaUnderROC\")\n",
        "auc = evaluator.evaluate(predictions)\n",
        "print(f\"Test AUC: {auc:.2f}\")\n",
        "\n",
        "# Show some predictions\n",
        "predictions.select(\"features\", \"is_delayed\", \"prediction\", \"probability\").show(5)\n"
      ],
      "metadata": {
        "colab": {
          "base_uri": "https://localhost:8080/"
        },
        "id": "4G7or2IGifXU",
        "outputId": "49685c33-7f5a-4048-842c-6d2dcfd31d4e"
      },
      "execution_count": null,
      "outputs": [
        {
          "output_type": "stream",
          "name": "stdout",
          "text": [
            "Test AUC: 1.00\n",
            "+--------------------+----------+----------+-----------+\n",
            "|            features|is_delayed|prediction|probability|\n",
            "+--------------------+----------+----------+-----------+\n",
            "|[-14.0,12.0,427.0...|         0|       0.0|  [1.0,0.0]|\n",
            "|[-12.0,15.0,744.0...|         0|       0.0|  [1.0,0.0]|\n",
            "|[-11.0,8.0,429.0,...|         0|       0.0|  [1.0,0.0]|\n",
            "|[-11.0,15.0,925.0...|         0|       0.0|  [1.0,0.0]|\n",
            "|[-10.0,6.0,489.0,...|         0|       0.0|  [1.0,0.0]|\n",
            "+--------------------+----------+----------+-----------+\n",
            "only showing top 5 rows\n",
            "\n"
          ]
        }
      ]
    },
    {
      "cell_type": "code",
      "source": [
        "from pyspark.ml.evaluation import MulticlassClassificationEvaluator\n",
        "from pyspark.sql import functions as F\n",
        "\n",
        "# Get predictions from the model on the test dataset\n",
        "predictions = model.transform(test_data)\n",
        "\n",
        "# Calculate True Positives, False Positives, True Negatives, and False Negatives\n",
        "tp = predictions.filter((F.col(\"prediction\") == 1) & (F.col(\"is_delayed\") == 1)).count()\n",
        "tn = predictions.filter((F.col(\"prediction\") == 0) & (F.col(\"is_delayed\") == 0)).count()\n",
        "fp = predictions.filter((F.col(\"prediction\") == 1) & (F.col(\"is_delayed\") == 0)).count()\n",
        "fn = predictions.filter((F.col(\"prediction\") == 0) & (F.col(\"is_delayed\") == 1)).count()\n",
        "\n",
        "# Display the confusion matrix\n",
        "print(f\"Confusion Matrix:\\n\")\n",
        "print(f\"True Positives (TP): {tp}\")\n",
        "print(f\"False Positives (FP): {fp}\")\n",
        "print(f\"True Negatives (TN): {tn}\")\n",
        "print(f\"False Negatives (FN): {fn}\")\n",
        "\n",
        "# Calculate additional metrics: Accuracy, Precision, Recall, and F1 Score\n",
        "accuracy = (tp + tn) / (tp + tn + fp + fn)\n",
        "precision = tp / (tp + fp) if (tp + fp) > 0 else 0\n",
        "recall = tp / (tp + fn) if (tp + fn) > 0 else 0\n",
        "f1_score = (2 * precision * recall) / (precision + recall) if (precision + recall) > 0 else 0\n",
        "\n",
        "print(f\"\\nMetrics:\")\n",
        "print(f\"Accuracy: {accuracy:.2f}\")\n",
        "print(f\"Precision: {precision:.2f}\")\n",
        "print(f\"Recall: {recall:.2f}\")\n",
        "print(f\"F1 Score: {f1_score:.2f}\")\n"
      ],
      "metadata": {
        "colab": {
          "base_uri": "https://localhost:8080/"
        },
        "id": "CN7g_ePerIOc",
        "outputId": "c4a79c21-280c-4353-f6b1-1b081286b5ef"
      },
      "execution_count": null,
      "outputs": [
        {
          "output_type": "stream",
          "name": "stdout",
          "text": [
            "Confusion Matrix:\n",
            "\n",
            "True Positives (TP): 692458\n",
            "False Positives (FP): 115684\n",
            "True Negatives (TN): 503211\n",
            "False Negatives (FN): 185620\n",
            "\n",
            "Metrics:\n",
            "Accuracy:0.79\n",
            "Precision: 0.85\n",
            "Recall: 0.78\n",
            "F1 Score: 0.82\n"
          ]
        }
      ]
    },
    {
      "cell_type": "code",
      "source": [],
      "metadata": {
        "id": "QZMZyso2rJCZ"
      },
      "execution_count": null,
      "outputs": []
    }
  ]
}
